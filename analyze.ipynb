{
 "cells": [
  {
   "cell_type": "code",
   "execution_count": null,
   "metadata": {},
   "outputs": [],
   "source": [
    "import pandas as pd\n",
    "import matplotlib.pyplot as plt\n",
    "\n",
    "# Load the CSV file\n",
    "# Replace 'your_file.csv' with the path to your CSV file\n",
    "csv_file_path = './build/BiCGSTAB_logs_rhs42.csv'\n",
    "data = pd.read_csv(csv_file_path)\n",
    "\n",
    "# Check if the required columns exist\n",
    "if 'k' in data.columns and 'res_2norm' in data.columns:\n",
    "    # Extract the columns\n",
    "    x = data['k']\n",
    "    y = data['res_2norm']\n",
    "    \n",
    "    # Create the plot\n",
    "    plt.figure(figsize=(10, 6))\n",
    "    plt.plot(x, y, marker='o', markersize=3, linestyle='-', color='b')\n",
    "    \n",
    "    # Adding titles and labels\n",
    "    plt.title('Plot of res_2norm vs k')\n",
    "    plt.xlabel('k')\n",
    "    plt.ylabel('res_2norm')\n",
    "    \n",
    "    # Show grid\n",
    "    plt.grid()\n",
    "    \n",
    "    # Show the plot\n",
    "    plt.show()\n",
    "else:\n",
    "    print(\"The required columns 'k' and 'res_2norm' are not in the CSV file.\")\n"
   ]
  }
 ],
 "metadata": {
  "kernelspec": {
   "display_name": "Python 3",
   "language": "python",
   "name": "python3"
  },
  "language_info": {
   "codemirror_mode": {
    "name": "ipython",
    "version": 3
   },
   "file_extension": ".py",
   "mimetype": "text/x-python",
   "name": "python",
   "nbconvert_exporter": "python",
   "pygments_lexer": "ipython3",
   "version": "3.10.12"
  }
 },
 "nbformat": 4,
 "nbformat_minor": 2
}
